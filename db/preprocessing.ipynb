{
 "cells": [
  {
   "cell_type": "code",
   "execution_count": 42,
   "id": "ed2aeb63-4094-4afc-9bd8-9aec196fe99f",
   "metadata": {},
   "outputs": [],
   "source": [
    "import numpy as np\n",
    "import json"
   ]
  },
  {
   "cell_type": "markdown",
   "id": "ed73e255-a742-4b51-a49f-199387392672",
   "metadata": {},
   "source": [
    "## Loading data into memory:"
   ]
  },
  {
   "cell_type": "code",
   "execution_count": 19,
   "id": "ec1056ca-14e5-4a11-bbf8-bae555d8f576",
   "metadata": {},
   "outputs": [],
   "source": [
    "recipes = None \n",
    "ingredients = None \n",
    "\n",
    "with np.load('simplified-recipes-1M.npz', allow_pickle=True) as data:\n",
    "    recipes = data['recipes']\n",
    "    ingredients = data['ingredients']"
   ]
  },
  {
   "cell_type": "markdown",
   "id": "4273db35-c4fb-4862-9779-bc8bb883c854",
   "metadata": {},
   "source": [
    "## Get unique grocery items:"
   ]
  },
  {
   "cell_type": "code",
   "execution_count": 54,
   "id": "db1f067a-7d56-478a-9937-83f9f8da5f6c",
   "metadata": {},
   "outputs": [],
   "source": [
    "grocery_items = set()\n",
    "LIMIT = 100"
   ]
  },
  {
   "cell_type": "code",
   "execution_count": 55,
   "id": "0b4c83ed-ccc0-458f-a85e-2c1ff25d58ae",
   "metadata": {},
   "outputs": [],
   "source": [
    "for recipe in recipes[:LIMIT]:\n",
    "    for ingredient in ingredients[recipe]:\n",
    "        if ingredient not in grocery_items:\n",
    "            grocery_items.add(ingredient)"
   ]
  },
  {
   "cell_type": "code",
   "execution_count": 56,
   "id": "abd5e5b7-0a16-4d70-9f66-a44d6308ed77",
   "metadata": {},
   "outputs": [],
   "source": [
    "grocery_items.remove('a')\n",
    "grocery_items.remove('ice')\n",
    "grocery_items.remove('dry')\n",
    "grocery_items.remove('any')\n",
    "grocery_items.remove('more')\n",
    "grocery_items.remove('plus')\n",
    "grocery_items.remove('yellow')\n",
    "grocery_items.remove('fat free')\n",
    "grocery_items.remove('american')\n",
    "grocery_items.remove('hot water')\n",
    "grocery_items.remove('cold milk')\n",
    "grocery_items.remove('large eggs')          \n",
    "grocery_items.remove('boiling water')\n",
    "grocery_items.remove('potatoes')"
   ]
  },
  {
   "cell_type": "code",
   "execution_count": 57,
   "id": "61a7db12-fc63-4ddb-a25f-0c69664984b0",
   "metadata": {},
   "outputs": [],
   "source": [
    "# sorted(grocery_items, key=len)"
   ]
  },
  {
   "cell_type": "code",
   "execution_count": null,
   "id": "53be7289-71dc-414b-a67d-a37dc567d17d",
   "metadata": {},
   "outputs": [],
   "source": [
    "temp = list(grocery_items)\n",
    "grocery_items = {}\n",
    "\n",
    "for i in range(len(temp)):\n",
    "    grocery_items[i]=temp[i]\n",
    "\n",
    "grocery_items"
   ]
  },
  {
   "cell_type": "markdown",
   "id": "ad1ddef6-08f5-4aa6-babd-0f2369f7cc12",
   "metadata": {},
   "source": [
    "## Associate recipes with the ingredients they use "
   ]
  },
  {
   "cell_type": "code",
   "execution_count": 59,
   "id": "cbdb2615-b332-41ce-a1ad-6ca6a4f34812",
   "metadata": {},
   "outputs": [
    {
     "ename": "AttributeError",
     "evalue": "'str' object has no attribute 'read'",
     "output_type": "error",
     "traceback": [
      "\u001b[1;31m---------------------------------------------------------------------------\u001b[0m",
      "\u001b[1;31mAttributeError\u001b[0m                            Traceback (most recent call last)",
      "\u001b[1;32m~\\AppData\\Local\\Temp/ipykernel_23804/2309479271.py\u001b[0m in \u001b[0;36m<module>\u001b[1;34m\u001b[0m\n\u001b[1;32m----> 1\u001b[1;33m \u001b[1;32mwith\u001b[0m \u001b[0mjson\u001b[0m\u001b[1;33m.\u001b[0m\u001b[0mload\u001b[0m\u001b[1;33m(\u001b[0m\u001b[1;34m'recipes/recipes_raw_nosource_epi.json'\u001b[0m\u001b[1;33m)\u001b[0m \u001b[1;32mas\u001b[0m \u001b[0mdata\u001b[0m\u001b[1;33m:\u001b[0m\u001b[1;33m\u001b[0m\u001b[1;33m\u001b[0m\u001b[0m\n\u001b[0m\u001b[0;32m      2\u001b[0m     \u001b[0mprint\u001b[0m\u001b[1;33m(\u001b[0m\u001b[0mdata\u001b[0m\u001b[1;33m)\u001b[0m\u001b[1;33m\u001b[0m\u001b[1;33m\u001b[0m\u001b[0m\n",
      "\u001b[1;32mc:\\users\\mdmeh\\appdata\\local\\programs\\python\\python39\\lib\\json\\__init__.py\u001b[0m in \u001b[0;36mload\u001b[1;34m(fp, cls, object_hook, parse_float, parse_int, parse_constant, object_pairs_hook, **kw)\u001b[0m\n\u001b[0;32m    291\u001b[0m     \u001b[0mkwarg\u001b[0m\u001b[1;33m;\u001b[0m \u001b[0motherwise\u001b[0m\u001b[0;31m \u001b[0m\u001b[0;31m`\u001b[0m\u001b[0;31m`\u001b[0m\u001b[0mJSONDecoder\u001b[0m\u001b[0;31m`\u001b[0m\u001b[0;31m`\u001b[0m \u001b[1;32mis\u001b[0m \u001b[0mused\u001b[0m\u001b[1;33m.\u001b[0m\u001b[1;33m\u001b[0m\u001b[1;33m\u001b[0m\u001b[0m\n\u001b[0;32m    292\u001b[0m     \"\"\"\n\u001b[1;32m--> 293\u001b[1;33m     return loads(fp.read(),\n\u001b[0m\u001b[0;32m    294\u001b[0m         \u001b[0mcls\u001b[0m\u001b[1;33m=\u001b[0m\u001b[0mcls\u001b[0m\u001b[1;33m,\u001b[0m \u001b[0mobject_hook\u001b[0m\u001b[1;33m=\u001b[0m\u001b[0mobject_hook\u001b[0m\u001b[1;33m,\u001b[0m\u001b[1;33m\u001b[0m\u001b[1;33m\u001b[0m\u001b[0m\n\u001b[0;32m    295\u001b[0m         \u001b[0mparse_float\u001b[0m\u001b[1;33m=\u001b[0m\u001b[0mparse_float\u001b[0m\u001b[1;33m,\u001b[0m \u001b[0mparse_int\u001b[0m\u001b[1;33m=\u001b[0m\u001b[0mparse_int\u001b[0m\u001b[1;33m,\u001b[0m\u001b[1;33m\u001b[0m\u001b[1;33m\u001b[0m\u001b[0m\n",
      "\u001b[1;31mAttributeError\u001b[0m: 'str' object has no attribute 'read'"
     ]
    }
   ],
   "source": [
    "with json.load('recipes/recipes_raw_nosource_epi.json',) as data:\n",
    "    for "
   ]
  },
  {
   "cell_type": "code",
   "execution_count": null,
   "id": "08c4faa0-6083-496e-9aff-2819acf117f9",
   "metadata": {},
   "outputs": [],
   "source": []
  }
 ],
 "metadata": {
  "kernelspec": {
   "display_name": "Python 3 (ipykernel)",
   "language": "python",
   "name": "python3"
  },
  "language_info": {
   "codemirror_mode": {
    "name": "ipython",
    "version": 3
   },
   "file_extension": ".py",
   "mimetype": "text/x-python",
   "name": "python",
   "nbconvert_exporter": "python",
   "pygments_lexer": "ipython3",
   "version": "3.9.6"
  }
 },
 "nbformat": 4,
 "nbformat_minor": 5
}
