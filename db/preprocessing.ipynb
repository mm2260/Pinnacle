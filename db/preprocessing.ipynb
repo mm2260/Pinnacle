{
 "cells": [
  {
   "cell_type": "code",
   "execution_count": 2,
   "id": "ed2aeb63-4094-4afc-9bd8-9aec196fe99f",
   "metadata": {},
   "outputs": [],
   "source": [
    "import numpy as np\n",
    "import json\n",
    "import psycopg2"
   ]
  },
  {
   "cell_type": "markdown",
   "id": "ed73e255-a742-4b51-a49f-199387392672",
   "metadata": {
    "tags": []
   },
   "source": [
    "## Loading data into memory:"
   ]
  },
  {
   "cell_type": "code",
   "execution_count": null,
   "id": "ec1056ca-14e5-4a11-bbf8-bae555d8f576",
   "metadata": {},
   "outputs": [],
   "source": [
    "recipes = None \n",
    "ingredients = None \n",
    "\n",
    "with np.load('simplified-recipes-1M.npz', allow_pickle=True) as data:\n",
    "    recipes = data['recipes']\n",
    "    ingredients = data['ingredients']"
   ]
  },
  {
   "cell_type": "markdown",
   "id": "4273db35-c4fb-4862-9779-bc8bb883c854",
   "metadata": {
    "tags": []
   },
   "source": [
    "## Get unique grocery items:"
   ]
  },
  {
   "cell_type": "code",
   "execution_count": null,
   "id": "db1f067a-7d56-478a-9937-83f9f8da5f6c",
   "metadata": {},
   "outputs": [],
   "source": [
    "grocery_items = set()\n",
    "LIMIT = 100"
   ]
  },
  {
   "cell_type": "code",
   "execution_count": null,
   "id": "0b4c83ed-ccc0-458f-a85e-2c1ff25d58ae",
   "metadata": {},
   "outputs": [],
   "source": [
    "for recipe in recipes[:LIMIT]:\n",
    "    for ingredient in ingredients[recipe]:\n",
    "        if ingredient not in grocery_items:\n",
    "            grocery_items.add(ingredient)"
   ]
  },
  {
   "cell_type": "code",
   "execution_count": null,
   "id": "abd5e5b7-0a16-4d70-9f66-a44d6308ed77",
   "metadata": {},
   "outputs": [],
   "source": [
    "grocery_items.remove('a')\n",
    "grocery_items.remove('ice')\n",
    "grocery_items.remove('dry')\n",
    "grocery_items.remove('any')\n",
    "grocery_items.remove('more')\n",
    "grocery_items.remove('plus')\n",
    "grocery_items.remove('yellow')\n",
    "grocery_items.remove('fat free')\n",
    "grocery_items.remove('american')\n",
    "grocery_items.remove('hot water')\n",
    "grocery_items.remove('cold milk')\n",
    "grocery_items.remove('large eggs')          \n",
    "grocery_items.remove('boiling water')\n",
    "grocery_items.remove('potatoes')\n",
    "grocery_items.remove('egg whites')\n",
    "grocery_items.remove('egg white')\n",
    "grocery_items.remove('egg yolks')\n",
    "grocery_items.remove('egg yolk')\n",
    "grocery_items.remove('white')\n",
    "grocery_items.remove('yolk')\n",
    "grocery_items.remove('ground')\n",
    "grocery_items.remove('heavy cream')\n",
    "grocery_items.remove('ground nutmeg')\n",
    "grocery_items.remove('chopped garlic')\n",
    "grocery_items.remove('fresh lemon')\n",
    "grocery_items.remove('unsalted butter')\n",
    "grocery_items.remove('crust')\n",
    "grocery_items.remove('packed')\n",
    "grocery_items.remove('carrots')\n",
    "grocery_items.remove('black')\n",
    "grocery_items.remove('nuts')\n",
    "grocery_items.remove('kosher')\n",
    "grocery_items.remove('vegetable')\n",
    "\n",
    "grocery_items.add('chestnuts')"
   ]
  },
  {
   "cell_type": "code",
   "execution_count": null,
   "id": "2e42c0f4-4212-40c2-ad96-5ba4837d8672",
   "metadata": {},
   "outputs": [],
   "source": [
    "to_remove = set()\n",
    "\n",
    "for upper_element in grocery_items:\n",
    "    for lower_element in grocery_items:\n",
    "        if upper_element == lower_element:\n",
    "            continue\n",
    "        elif upper_element in lower_element:\n",
    "            to_remove.add(lower_element)\n",
    "            \n",
    "grocery_items = grocery_items.difference(to_remove)"
   ]
  },
  {
   "cell_type": "code",
   "execution_count": null,
   "id": "61a7db12-fc63-4ddb-a25f-0c69664984b0",
   "metadata": {},
   "outputs": [],
   "source": [
    "# sorted(grocery_items, key=len)"
   ]
  },
  {
   "cell_type": "code",
   "execution_count": null,
   "id": "53be7289-71dc-414b-a67d-a37dc567d17d",
   "metadata": {},
   "outputs": [],
   "source": [
    "temp = list(grocery_items)\n",
    "grocery_items = {}\n",
    "grocery_items_mapping = {}\n",
    "\n",
    "for i in range(len(temp)):\n",
    "    grocery_items[i]=temp[i]\n",
    "    grocery_items_mapping[temp[i]]=i\n",
    "# grocery_items"
   ]
  },
  {
   "cell_type": "markdown",
   "id": "ad1ddef6-08f5-4aa6-babd-0f2369f7cc12",
   "metadata": {
    "tags": []
   },
   "source": [
    "## Associate recipes with the ingredients they use "
   ]
  },
  {
   "cell_type": "code",
   "execution_count": null,
   "id": "cbdb2615-b332-41ce-a1ad-6ca6a4f34812",
   "metadata": {},
   "outputs": [],
   "source": [
    "LIMIT = 50\n",
    "\n",
    "with open('recipes/recipes_raw_nosource_epi.json') as data:\n",
    "    all_recipes = json.load(data)\n",
    "    keys = list(all_recipes)\n",
    "    recipes = []\n",
    "    \n",
    "    i = 0\n",
    "    while i < LIMIT:\n",
    "        recipes.append(all_recipes[keys[i]])\n",
    "        i = i + 1"
   ]
  },
  {
   "cell_type": "code",
   "execution_count": null,
   "id": "1b46c49c-279a-4c55-a471-2ab3f227a5b9",
   "metadata": {},
   "outputs": [],
   "source": [
    "items = {x[1] for x in grocery_items.items()} "
   ]
  },
  {
   "cell_type": "code",
   "execution_count": null,
   "id": "af0d4750-f367-4db2-9876-a4819b52e585",
   "metadata": {},
   "outputs": [],
   "source": [
    "for i in range(len(recipes)):\n",
    "    ingredient_list = set()\n",
    "    for ingredients in recipes[i]['ingredients']:\n",
    "        for element in grocery_items.items():\n",
    "            if element[1] not in ingredient_list:\n",
    "                if element[1] in ingredients:\n",
    "                    ingredient_list.add(element[1])\n",
    "    recipes[i]['ingredient_list']=ingredient_list"
   ]
  },
  {
   "cell_type": "code",
   "execution_count": null,
   "id": "5ef59662-12f6-4ce4-bc56-5b31e1a0d977",
   "metadata": {},
   "outputs": [],
   "source": [
    "# for i in range(len(recipes)):\n",
    "#     print(recipes[i]['ingredient_list'])"
   ]
  },
  {
   "cell_type": "code",
   "execution_count": null,
   "id": "967e9a17-e170-4bf8-beec-8209ae23780a",
   "metadata": {},
   "outputs": [],
   "source": [
    "# 'chestnuts' in [x[1] for x in grocery_items.items() ]"
   ]
  },
  {
   "cell_type": "code",
   "execution_count": null,
   "id": "314cd497-32ab-498d-8cd0-331cfc2df05b",
   "metadata": {},
   "outputs": [],
   "source": [
    "for i in range(len(recipes)):\n",
    "    recipes[i]['ingredient_list'] = { grocery_items_mapping[x] for x in recipes[i]['ingredient_list'] }"
   ]
  },
  {
   "cell_type": "code",
   "execution_count": null,
   "id": "42d294ae-0453-4503-9d89-64b7e0338f78",
   "metadata": {},
   "outputs": [],
   "source": [
    "recipes[1]"
   ]
  },
  {
   "cell_type": "markdown",
   "id": "f05a399b-1cb1-419b-a7a6-9387dd135e10",
   "metadata": {
    "tags": []
   },
   "source": [
    "## Set up the Database"
   ]
  },
  {
   "cell_type": "markdown",
   "id": "47b6486e-97e6-4eb5-bef8-4ad17818ff13",
   "metadata": {
    "tags": []
   },
   "source": [
    "#### Establish Connection"
   ]
  },
  {
   "cell_type": "code",
   "execution_count": 3,
   "id": "5b5b448a-01dc-444e-b2d4-a09f76f49585",
   "metadata": {},
   "outputs": [],
   "source": [
    "HOST = ''\n",
    "DATABASE = ''\n",
    "USER = ''\n",
    "PASSWORD = ''\n",
    "PORT = ''\n",
    "\n",
    "with open('config.json') as data:\n",
    "    configuration = json.load(data)\n",
    "    HOST = configuration['HOST']\n",
    "    DATABASE = configuration['DATABASE']\n",
    "    USER = configuration['USER']\n",
    "    PASSWORD = configuration['PASSWORD']\n",
    "    PORT = configuration['PORT']"
   ]
  },
  {
   "cell_type": "code",
   "execution_count": 4,
   "id": "3a8cc6cc-07bb-444c-bc40-d42c6045399b",
   "metadata": {},
   "outputs": [],
   "source": [
    "conn = psycopg2.connect( \n",
    "    host=HOST,\n",
    "    database=DATABASE,\n",
    "    user=USER,\n",
    "    password=PASSWORD,\n",
    "    port=PORT)"
   ]
  },
  {
   "cell_type": "code",
   "execution_count": 9,
   "id": "e6db842b-eeb9-4d53-ab31-8f4d981c0b04",
   "metadata": {},
   "outputs": [],
   "source": [
    "cur = conn.cursor()"
   ]
  },
  {
   "cell_type": "markdown",
   "id": "c5ae9507-f938-4ad2-826e-946427ee8449",
   "metadata": {
    "tags": []
   },
   "source": [
    "### Create tables"
   ]
  },
  {
   "cell_type": "code",
   "execution_count": null,
   "id": "a8267b29-2404-42a5-aa3c-a8c1bca00453",
   "metadata": {},
   "outputs": [],
   "source": [
    "# commands = ( \n",
    "#     \"\"\"\n",
    "#     CREATE TABLE recipes (\n",
    "#         recipe_id SERIAL PRIMARY KEY,\n",
    "#         title VARCHAR(255) NOT NULL,\n",
    "#         full_ingredients VARCHAR [] NOT NULL,\n",
    "#         instructions VARCHAR NOT NULL\n",
    "#     )\n",
    "#     \"\"\",\n",
    "#     \"\"\"\n",
    "#     CREATE TABLE ingredients (\n",
    "#         ingredient_id SERIAL PRIMARY KEY,\n",
    "#         name VARCHAR(255) NOT NULL\n",
    "#     )\n",
    "#     \"\"\",\n",
    "#     \"\"\"\n",
    "#     CREATE TABLE recipe_ingredients(\n",
    "#         riid SERIAL PRIMARY KEY,\n",
    "#         rid INTEGER NOT NULL,\n",
    "#         iid INTEGER NOT NULL,\n",
    "#         FOREIGN KEY (rid) REFERENCES recipes (recipe_id) \n",
    "#         ON UPDATE CASCADE ON DELETE CASCADE,\n",
    "#         FOREIGN KEY (iid) REFERENCES ingredients (ingredient_id)\n",
    "#         ON UPDATE CASCADE ON DELETE CASCADE\n",
    "#     )\n",
    "#     \"\"\" )"
   ]
  },
  {
   "cell_type": "code",
   "execution_count": null,
   "id": "fa38db45-5e2c-458f-96bc-7d922e3249fb",
   "metadata": {},
   "outputs": [],
   "source": [
    "# for command in commands:\n",
    "#     cur.execute(command)"
   ]
  },
  {
   "cell_type": "markdown",
   "id": "18857ff3-1080-46f1-bd79-ce41cca1a2d7",
   "metadata": {
    "tags": []
   },
   "source": [
    "### Populate tables"
   ]
  },
  {
   "cell_type": "markdown",
   "id": "17540b91-6eae-4030-b004-2a01abe07d94",
   "metadata": {
    "jp-MarkdownHeadingCollapsed": true,
    "tags": []
   },
   "source": [
    "#### Ingredients"
   ]
  },
  {
   "cell_type": "code",
   "execution_count": null,
   "id": "8c27ac3e-1173-4ede-853c-9cadad1daf88",
   "metadata": {},
   "outputs": [],
   "source": [
    "# ingredient_names = \"'\"+\"','\".join([x[1] for x in grocery_items.items()])+\"'\""
   ]
  },
  {
   "cell_type": "code",
   "execution_count": 180,
   "id": "cb40c54c-b940-4077-a4c8-1eaf6f88d870",
   "metadata": {},
   "outputs": [],
   "source": [
    "# commands = []\n",
    "# for ingredient_id in grocery_items.keys():\n",
    "#     ingredient_name = grocery_items[ingredient_id]\n",
    "#     command = f\"INSERT INTO ingredients(ingredient_id,name) VALUES ({ingredient_id},'{ingredient_name}')\"\n",
    "#     commands.append(command)\n",
    "\n",
    "# commands = tuple(commands)"
   ]
  },
  {
   "cell_type": "code",
   "execution_count": 181,
   "id": "b5edfcca-7012-4d13-865d-a3866441a5a9",
   "metadata": {},
   "outputs": [],
   "source": [
    "# for command in commands:\n",
    "#     cur.execute(command)"
   ]
  },
  {
   "cell_type": "markdown",
   "id": "e19516c3-30a8-4065-b24d-8920c1d450f4",
   "metadata": {
    "tags": []
   },
   "source": [
    "#### Recipes"
   ]
  },
  {
   "cell_type": "code",
   "execution_count": 184,
   "id": "48b4a31c-aad0-43f2-8273-2325712550e7",
   "metadata": {},
   "outputs": [],
   "source": [
    "# commands = []\n",
    "# for recipe_num in range(len(recipes)):\n",
    "#     title = recipes[recipe_num]['title'].replace(\"'\",'').strip()\n",
    "#     full_ingredients = ','.join(recipes[recipe_num]['ingredients']).replace(\"'\",'').strip()\n",
    "#     full_ingredients = \"'{\"+full_ingredients+\"}'\"\n",
    "#     instructions = recipes[recipe_num]['instructions'].replace(\"'\",'').replace(\"\\n\",' ').strip()    \n",
    "#     command = f\"INSERT INTO recipes(recipe_id, title, full_ingredients, instructions) VALUES ({recipe_num}, '{title}', {full_ingredients}, '{instructions}')\"\n",
    "#     commands.append(command)\n",
    "\n",
    "# commands = tuple(commands)"
   ]
  },
  {
   "cell_type": "code",
   "execution_count": null,
   "id": "fbc90ac3-7f91-42b0-b5ac-c16e15458b05",
   "metadata": {},
   "outputs": [],
   "source": [
    "# for command in commands:\n",
    "#     cur.execute(command)"
   ]
  },
  {
   "cell_type": "markdown",
   "id": "377e4654-ec6d-4569-9fe3-a3544d99416c",
   "metadata": {
    "jp-MarkdownHeadingCollapsed": true,
    "tags": []
   },
   "source": [
    "#### Recipe-Ingredient"
   ]
  },
  {
   "cell_type": "code",
   "execution_count": 187,
   "id": "199a5484-8579-4e3c-b4ab-306f8e41afb5",
   "metadata": {},
   "outputs": [],
   "source": [
    "# commands = []\n",
    "# i = 0\n",
    "# for recipe_num in range(len(recipes)):\n",
    "#     for ingredient_num in recipes[recipe_num]['ingredient_list']:\n",
    "#         i = i + 1\n",
    "#         command = f\"INSERT INTO recipe_ingredients(riid, rid, iid) VALUES ({i},{recipe_num},{ingredient_num})\"\n",
    "#         commands.append(command)\n",
    "        \n",
    "# commands = tuple(commands)"
   ]
  },
  {
   "cell_type": "code",
   "execution_count": null,
   "id": "cddf9e45-a2d1-4380-9569-2d830aa327c7",
   "metadata": {},
   "outputs": [],
   "source": [
    "# for command in commands:\n",
    "#     print(command)\n",
    "#     cur.execute(command)"
   ]
  },
  {
   "cell_type": "markdown",
   "id": "42995a6f-0041-449f-b0d2-69da3c7eba36",
   "metadata": {
    "tags": []
   },
   "source": [
    "### Cleanup"
   ]
  },
  {
   "cell_type": "code",
   "execution_count": null,
   "id": "944a5949-a52f-4243-8506-bc0b3eb99818",
   "metadata": {},
   "outputs": [],
   "source": [
    "cur.execute('SELECT * from recipe_ingredients')\n",
    "cur.fetchall()"
   ]
  },
  {
   "cell_type": "code",
   "execution_count": 190,
   "id": "18bbe129-37e8-4f5d-bf6f-55d62c1cb543",
   "metadata": {},
   "outputs": [],
   "source": [
    "conn.commit()"
   ]
  },
  {
   "cell_type": "code",
   "execution_count": 8,
   "id": "dd6db906-232b-461d-ad15-e9e2241b09f9",
   "metadata": {},
   "outputs": [],
   "source": [
    "cur.close()"
   ]
  },
  {
   "cell_type": "code",
   "execution_count": 11,
   "id": "a0d5e693-a46f-4629-964e-056a2365f9c6",
   "metadata": {},
   "outputs": [],
   "source": [
    "conn.close()"
   ]
  },
  {
   "cell_type": "markdown",
   "id": "45ce0079-7201-4f2e-96fb-525e4dacc2a7",
   "metadata": {},
   "source": [
    "# Further SQL code"
   ]
  },
  {
   "cell_type": "code",
   "execution_count": null,
   "id": "0eb37981-6c0b-42c6-b52b-a255dce6c4d3",
   "metadata": {},
   "outputs": [],
   "source": [
    "\"\"\"\n",
    "create table fridge\n",
    "(\n",
    "\tfridge_id serial,\n",
    "\tuser_id int not null\n",
    "\t\tconstraint fridge_users_user_id_fk\n",
    "\t\t\treferences users\n",
    "\t\t\t\ton update cascade on delete cascade,\n",
    "\tingredient_id int\n",
    "\t\tconstraint fridge_ingredients_ingredient_id_fk\n",
    "\t\t\treferences ingredients\n",
    "\t\t\t\ton update cascade on delete cascade,\n",
    "\tquantity int,\n",
    "\n",
    "\tconstraint unique_user_ingredient unique(user_id,ingredient_id)\n",
    ");\n",
    "\n",
    "create unique index fridge_fridge_id_uindex\n",
    "\ton fridge (fridge_id);\n",
    "\n",
    "alter table fridge\n",
    "\tadd constraint fridge_pk\n",
    "\t\tprimary key (fridge_id);\"\"\""
   ]
  },
  {
   "cell_type": "code",
   "execution_count": null,
   "id": "cd71d62c-67f9-4914-82d2-8ef754f1681a",
   "metadata": {},
   "outputs": [],
   "source": []
  },
  {
   "cell_type": "code",
   "execution_count": 12,
   "id": "196edbda-0bfa-4aac-95f4-ffce9105f824",
   "metadata": {},
   "outputs": [],
   "source": [
    "HOST = ''\n",
    "DATABASE = ''\n",
    "USER = ''\n",
    "PASSWORD = ''\n",
    "PORT = ''\n",
    "\n",
    "with open('config.json') as data:\n",
    "    configuration = json.load(data)\n",
    "    HOST = configuration['HOST']\n",
    "    DATABASE = configuration['DATABASE']\n",
    "    USER = configuration['USER']\n",
    "    PASSWORD = configuration['PASSWORD']\n",
    "    PORT = configuration['PORT']"
   ]
  },
  {
   "cell_type": "code",
   "execution_count": 13,
   "id": "aed183d7-2e39-4434-aaa2-4962b730682e",
   "metadata": {},
   "outputs": [],
   "source": [
    "conn = psycopg2.connect( \n",
    "    host=HOST,\n",
    "    database=DATABASE,\n",
    "    user=USER,\n",
    "    password=PASSWORD,\n",
    "    port=PORT)"
   ]
  },
  {
   "cell_type": "code",
   "execution_count": 15,
   "id": "93ae1e64-9198-43c9-9d87-f0b88f01a0e7",
   "metadata": {},
   "outputs": [],
   "source": [
    "cur = conn.cursor()"
   ]
  },
  {
   "cell_type": "code",
   "execution_count": 23,
   "id": "49e380d1-143f-4808-a5ce-c64326484e3f",
   "metadata": {},
   "outputs": [],
   "source": [
    "cur.execute('SELECT user_id from users')\n",
    "userIds = [x[0] for x in cur.fetchall()]"
   ]
  },
  {
   "cell_type": "code",
   "execution_count": null,
   "id": "020961fe-0a7f-40a0-87af-d75836c9ab19",
   "metadata": {},
   "outputs": [],
   "source": [
    "cur.execute('SELECT ingredient_id FROM ingredients')\n",
    "ingredientIds = [x[0] for x in cur.fetchall()]"
   ]
  },
  {
   "cell_type": "code",
   "execution_count": null,
   "id": "aa5e9d1a-a9e8-4fb8-bf4d-08134818f3ba",
   "metadata": {},
   "outputs": [],
   "source": [
    "for uid in userIds:\n",
    "    for iid in ingredientIds:\n",
    "        command = f\"INSERT INTO fridge(user_id,ingredient_id,quantity) VALUES({uid},{iid},0)\"\n",
    "        cur.execute(command)"
   ]
  },
  {
   "cell_type": "code",
   "execution_count": null,
   "id": "5a8c84b5-3995-47a0-b1bd-748c8848b120",
   "metadata": {},
   "outputs": [],
   "source": [
    "conn.commit()"
   ]
  },
  {
   "cell_type": "code",
   "execution_count": 8,
   "id": "e333e995-3aa5-4245-8626-112e6b0c0b3b",
   "metadata": {},
   "outputs": [],
   "source": [
    "cur.close()"
   ]
  },
  {
   "cell_type": "code",
   "execution_count": 11,
   "id": "e60ddadb-6743-4f3d-9e4d-e9bdffb843bf",
   "metadata": {},
   "outputs": [],
   "source": [
    "conn.close()"
   ]
  },
  {
   "cell_type": "code",
   "execution_count": null,
   "id": "ab507384-4833-454c-87e5-d6d98ee3bf38",
   "metadata": {},
   "outputs": [],
   "source": []
  }
 ],
 "metadata": {
  "kernelspec": {
   "display_name": "Python 3 (ipykernel)",
   "language": "python",
   "name": "python3"
  },
  "language_info": {
   "codemirror_mode": {
    "name": "ipython",
    "version": 3
   },
   "file_extension": ".py",
   "mimetype": "text/x-python",
   "name": "python",
   "nbconvert_exporter": "python",
   "pygments_lexer": "ipython3",
   "version": "3.9.6"
  }
 },
 "nbformat": 4,
 "nbformat_minor": 5
}
